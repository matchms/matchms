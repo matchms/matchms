{
 "cells": [
  {
   "cell_type": "markdown",
   "metadata": {},
   "source": [
    "# matchms tutorial\n",
    "## part I - building a MS/MS analysis pipeline\n",
    "\n",
    "### Requirements\n",
    "For this notebook to work, `matchms` needs to be installed.\n",
    "This can be done by running:\n",
    "\n",
    "```\n",
    "conda create --name matchms python=3.8\n",
    "conda activate matchms\n",
    "conda install --channel nlesc --channel bioconda --channel conda-forge matchms\n",
    "```"
   ]
  },
  {
   "cell_type": "markdown",
   "metadata": {},
   "source": [
    "# 1. Import MS/MS data\n",
    "- matchms has several importing options, e.g.: `load_from_json`, `load_from_mzml`, `load_from_mzxml` etc. Here we are going to use `load_from_mgf`\n",
    "- Import spectrum from mgf file downloaded from GNPS (https://gnps-external.ucsd.edu/gnpslibrary, here using `GNPS-NIH-NATURALPRODUCTSLIBRARY.mgf`)"
   ]
  },
  {
   "cell_type": "code",
   "execution_count": 1,
   "metadata": {},
   "outputs": [],
   "source": [
    "import os\n",
    "import numpy as np\n",
    "from matchms.importing import load_from_mgf\n",
    "\n",
    "path_data = os.path.join(os.path.dirname(os.getcwd()), \"data\") #\"...\" enter your pathname to the downloaded file\n",
    "file_mgf = os.path.join(path_data, \"GNPS-NIH-NATURALPRODUCTSLIBRARY.mgf\")\n",
    "spectrums = list(load_from_mgf(file_mgf))"
   ]
  },
  {
   "cell_type": "code",
   "execution_count": 2,
   "metadata": {},
   "outputs": [
    {
     "name": "stdout",
     "output_type": "stream",
     "text": [
      "1267 spectrums found and imported\n"
     ]
    }
   ],
   "source": [
    "print(f\"{len(spectrums)} spectrums found and imported\")"
   ]
  },
  {
   "cell_type": "markdown",
   "metadata": {},
   "source": [
    "## Inspect spectra\n",
    "- Inspect the metadata: inchikey, inchi, smiles\n",
    "- Inspect the number of peaks per spectrum"
   ]
  },
  {
   "cell_type": "code",
   "execution_count": 3,
   "metadata": {},
   "outputs": [
    {
     "name": "stdout",
     "output_type": "stream",
     "text": [
      "Found 0 inchikeys in metadata\n"
     ]
    }
   ],
   "source": [
    "inchikeys = [s.get(\"inchikey\") for s in spectrums]\n",
    "found_inchikeys = np.sum([1 for x in inchikeys if x is not None])\n",
    "print(f\"Found {int(found_inchikeys)} inchikeys in metadata\")"
   ]
  },
  {
   "cell_type": "code",
   "execution_count": 4,
   "metadata": {},
   "outputs": [
    {
     "data": {
      "text/plain": [
       "['N/A', 'N/A', 'N/A', 'N/A', 'N/A', 'N/A', 'N/A', 'N/A', 'N/A', 'N/A']"
      ]
     },
     "execution_count": 4,
     "metadata": {},
     "output_type": "execute_result"
    }
   ],
   "source": [
    "inchi = [s.get(\"inchi\") for s in spectrums]\n",
    "inchi[:10]"
   ]
  },
  {
   "cell_type": "code",
   "execution_count": 5,
   "metadata": {},
   "outputs": [
    {
     "data": {
      "text/plain": [
       "['OC(=O)[C@H](NC(=O)CCN1C(=O)[C@@H]2Cc3ccccc3CN2C1=O)c4ccccc4',\n",
       " 'O=C(N1[C@@H](C#N)C2OC2c3ccccc13)c4ccccc4',\n",
       " 'COc1cc(O)c2c(=O)cc(oc2c1)c3ccccc3',\n",
       " 'COc1c2OCOc2cc(CCN(C)C(=O)c3ccccc3)c1/C=C\\\\4/C(=O)NC(=O)N(CC=C)C4=O',\n",
       " 'CC(C)[C@H](NC(=O)N1[C@@H](C(C)C)C(=O)Nc2ccccc12)C(=O)N[C@@H](Cc3ccccc3)C(=O)O',\n",
       " 'OC(COC(=O)c1ccccc1)C(O)C(O)COC(=O)c2ccccc2',\n",
       " 'Cc1c(Cc2ccccc2)c(=O)oc3c(C)c(OCC(=O)N[C@@H](Cc4ccccc4)C(=O)O)ccc13',\n",
       " 'CC(Cc1c[nH]c2ccccc12)C(=O)O',\n",
       " 'COc1ccc(CNC(=O)[C@@H](NC(=O)C2CCN(CC2)C(=O)[C@@H](N)CC(C)C)C(C)C)cc1',\n",
       " 'Cc1c(Br)c(=O)oc2cc(OCC(=O)N3C[C@H]4C[C@@H](C3)c5cccc(=O)n5C4)ccc12']"
      ]
     },
     "execution_count": 5,
     "metadata": {},
     "output_type": "execute_result"
    }
   ],
   "source": [
    "smiles = [s.get(\"smiles\") for s in spectrums]\n",
    "smiles[:10]"
   ]
  },
  {
   "cell_type": "code",
   "execution_count": 6,
   "metadata": {},
   "outputs": [
    {
     "data": {
      "text/plain": [
       "Text(0, 0.5, 'Number of spectra')"
      ]
     },
     "execution_count": 6,
     "metadata": {},
     "output_type": "execute_result"
    },
    {
     "data": {
      "image/png": "[encoded data removed]",
      "text/plain": [
       "<Figure size 750x600 with 1 Axes>"
      ]
     },
     "metadata": {
      "needs_background": "light"
     },
     "output_type": "display_data"
    }
   ],
   "source": [
    "numbers_of_peaks = [len(s.peaks.mz) for s in spectrums]\n",
    "\n",
    "from matplotlib import pyplot as plt\n",
    "plt.figure(figsize=(5,4), dpi=150)\n",
    "plt.hist(numbers_of_peaks, 20, edgecolor=\"white\")\n",
    "plt.title(\"Peaks per spectrum (before filtering)\")\n",
    "plt.xlabel(\"Number of peaks in spectrum\")\n",
    "plt.ylabel(\"Number of spectra\")\n",
    "#plt.savefig(\"hist01.png\")"
   ]
  },
  {
   "cell_type": "markdown",
   "metadata": {},
   "source": [
    "# 2. Build a data processing pipeline\n",
    "Depending on the data that you import, in most cases you might want to further process the spectra. matchms offers numerous 'filters' to process Spectrum objects. They are designed in a way that allows to simply stack them to any processing pipeline you want. In general, `matchms.filtering` contains filters that either will\n",
    "\n",
    "- harmonize, clean, extend, and/or check the spectrum metadata\n",
    "- process or filter spectrum peaks (e.g. remove low intensity peaks, or normalize peak intensities)"
   ]
  },
  {
   "cell_type": "code",
   "execution_count": 7,
   "metadata": {},
   "outputs": [],
   "source": [
    "import matchms.filtering as ms_filters\n",
    "\n",
    "def metadata_processing(spectrum):\n",
    "    \"\"\"Build your own custom filter/preprocessing pipeline.\n",
    "    \"\"\"\n",
    "    spectrum = ms_filters.default_filters(spectrum)\n",
    "    spectrum = ms_filters.repair_inchi_inchikey_smiles(spectrum)\n",
    "    spectrum = ms_filters.derive_inchi_from_smiles(spectrum)\n",
    "    spectrum = ms_filters.derive_smiles_from_inchi(spectrum)\n",
    "    spectrum = ms_filters.derive_inchikey_from_inchi(spectrum)\n",
    "    spectrum = ms_filters.harmonize_undefined_smiles(spectrum)\n",
    "    spectrum = ms_filters.harmonize_undefined_inchi(spectrum)\n",
    "    spectrum = ms_filters.harmonize_undefined_inchikey(spectrum)\n",
    "    spectrum = ms_filters.add_precursor_mz(spectrum)\n",
    "    return spectrum"
   ]
  },
  {
   "cell_type": "markdown",
   "metadata": {},
   "source": [
    "Here we defined a sequence of filters to be applied to a spectrum, which will apply default filters (a bunch of standard operations to make metadata entries more consistent). Then we run a number of filters that look for inchi, inchikey, and smiles that ended up in wrong fields (`repair_inchi_inchikey_smiles`), and ultimately translate inchi, inchikey, and smiles into another wherever possible.\n",
    "\n",
    "\n",
    "To process the peaks we define another pipeline:"
   ]
  },
  {
   "cell_type": "markdown",
   "metadata": {},
   "source": [
    "### Peak processing pipeline"
   ]
  },
  {
   "cell_type": "code",
   "execution_count": 8,
   "metadata": {},
   "outputs": [],
   "source": [
    "def peak_processing(spectrum):\n",
    "    spectrum = ms_filters.normalize_intensities(spectrum)\n",
    "    spectrum = ms_filters.select_by_intensity(spectrum, intensity_from=0.01)\n",
    "    spectrum = ms_filters.select_by_mz(spectrum, mz_from=10, mz_to=1000)\n",
    "    return spectrum"
   ]
  },
  {
   "cell_type": "markdown",
   "metadata": {},
   "source": [
    "Here we defined a sequence of filters which will normalize the intensities to values between 0 and 1, and finally only keep peaks if they have a normalized intensity > 0.01 and if they have a m/z position between 10 and 1000 Da.\n",
    "\n",
    "\n",
    "Once defined in this way, we can easily apply this processing sequence to all imported spectrums by doing:"
   ]
  },
  {
   "cell_type": "code",
   "execution_count": 9,
   "metadata": {},
   "outputs": [],
   "source": [
    "spectrums = [metadata_processing(s) for s in spectrums]\n",
    "spectrums = [peak_processing(s) for s in spectrums]"
   ]
  },
  {
   "cell_type": "code",
   "execution_count": 10,
   "metadata": {},
   "outputs": [
    {
     "data": {
      "text/plain": [
       "['XTJNPXYDTGJZSA-PKOBYXMFSA-N',\n",
       " 'VOYWJNWCKFCMPN-FHERZECASA-N',\n",
       " 'IRZVHDLBAYNPCT-UHFFFAOYSA-N',\n",
       " 'OPWCHZIQXUKNMP-RGEXLXHISA-N',\n",
       " 'GTBYYVAKXYVRHX-BVSLBCMMSA-N',\n",
       " 'UVZWLAGDMMCHPD-UHFFFAOYSA-N',\n",
       " 'XKWILXCQJFNUJH-DEOSSOPVSA-N',\n",
       " 'JDZNIWUNOASRIK-UHFFFAOYSA-N',\n",
       " 'RCAVVTTVAJETSK-VXKWHMMOSA-N',\n",
       " 'KQAZJQXFNDOORW-CABCVRRESA-N']"
      ]
     },
     "execution_count": 10,
     "metadata": {},
     "output_type": "execute_result"
    }
   ],
   "source": [
    "inchikeys = [s.get(\"inchikey\") for s in spectrums]\n",
    "inchikeys[:10]"
   ]
  },
  {
   "cell_type": "code",
   "execution_count": 11,
   "metadata": {},
   "outputs": [
    {
     "data": {
      "text/plain": [
       "Text(0, 0.5, 'Number of spectra')"
      ]
     },
     "execution_count": 11,
     "metadata": {},
     "output_type": "execute_result"
    },
    {
     "data": {
      "image/png": "[encoded data removed]",
      "text/plain": [
       "<Figure size 750x600 with 1 Axes>"
      ]
     },
     "metadata": {
      "needs_background": "light"
     },
     "output_type": "display_data"
    }
   ],
   "source": [
    "numbers_of_peaks = [len(s.peaks.mz) for s in spectrums]\n",
    "\n",
    "from matplotlib import pyplot as plt\n",
    "plt.figure(figsize=(5,4), dpi=150)\n",
    "plt.hist(numbers_of_peaks, 20, edgecolor=\"white\")\n",
    "plt.title(\"Peaks per spectrum (after filtering)\")\n",
    "plt.xlabel(\"Number of peaks in spectrum\")\n",
    "plt.ylabel(\"Number of spectra\")\n",
    "#plt.savefig(\"hist02.png\")"
   ]
  },
  {
   "cell_type": "markdown",
   "metadata": {},
   "source": [
    "- the filtering did drastically reduce the (initially very high) number of peaks per spectrum\n",
    "- this is mostly due to the removal of peaks < 0.01 of the max intensity"
   ]
  },
  {
   "cell_type": "markdown",
   "metadata": {},
   "source": [
    "## Export processed data\n",
    "There are multiple options to export your data after processing. Using `save_as_json` or `save_as_mgf` the data can be written back to a `.json` or `.mgf` file."
   ]
  },
  {
   "cell_type": "code",
   "execution_count": 12,
   "metadata": {},
   "outputs": [],
   "source": [
    "from matchms.exporting import save_as_json\n",
    "\n",
    "file_export_json = os.path.join(path_data, \"GNPS-NIH-NATURALPRODUCTSLIBRARY_processed.json\")\n",
    "save_as_json(spectrums, file_export_json)"
   ]
  },
  {
   "cell_type": "markdown",
   "metadata": {},
   "source": [
    "A alternative that is much faster for reading/writing is to use 'pickle'. Should data handling become an issue (e.g. many thousands spectrums), than this can be a way out."
   ]
  },
  {
   "cell_type": "code",
   "execution_count": 13,
   "metadata": {},
   "outputs": [],
   "source": [
    "import pickle\n",
    "\n",
    "file_export_pickle = os.path.join(path_data, \"GNPS-NIH-NATURALPRODUCTSLIBRARY_processed.pickle\")\n",
    "pickle.dump(spectrums, \n",
    "            open(file_export_pickle, \"wb\"))"
   ]
  },
  {
   "cell_type": "markdown",
   "metadata": {},
   "source": [
    "# 3. Compute spectra similarities : Cosine score\n",
    "In the following part the Cosine similarity scores between all possible spectra pairs will be calculated."
   ]
  },
  {
   "cell_type": "code",
   "execution_count": 14,
   "metadata": {},
   "outputs": [],
   "source": [
    "from matchms import calculate_scores\n",
    "from matchms.similarity import CosineGreedy\n",
    "\n",
    "similarity_measure = CosineGreedy(tolerance=0.005)\n",
    "scores = calculate_scores(spectrums, spectrums, similarity_measure, is_symmetric=True)"
   ]
  },
  {
   "cell_type": "markdown",
   "metadata": {},
   "source": [
    "### Results come as `Scores` object!\n",
    "Matchms returns the results of all score computations as a `Scores` object. \n",
    "The Scores object contains the spectrums which were used as well as the computed similarity scores. It also allows to query the most similar spectra."
   ]
  },
  {
   "cell_type": "code",
   "execution_count": 15,
   "metadata": {},
   "outputs": [
    {
     "data": {
      "text/plain": [
       "(1267, 1267, 2)"
      ]
     },
     "execution_count": 15,
     "metadata": {},
     "output_type": "execute_result"
    }
   ],
   "source": [
    "scores.scores.shape  # ,2 because CosineGreedy returns two scores --> Cosine score and number of matching peaks"
   ]
  },
  {
   "cell_type": "markdown",
   "metadata": {},
   "source": [
    "**Important: The Scores object has changed in matchms >= 0.18.0** \n",
    "Since version 0.18.0, the computed scores are stored in a *sparse array*. This means that for very large computations it won't have to also store scores which are 0 (or False)."
   ]
  },
  {
   "cell_type": "code",
   "execution_count": 16,
   "metadata": {},
   "outputs": [
    {
     "data": {
      "text/plain": [
       "<1267x1267x2 stacked sparse array containing scores for ('CosineGreedy_score', 'CosineGreedy_matches') with 964913 stored elements in COOrdinate format>"
      ]
     },
     "execution_count": 16,
     "metadata": {},
     "output_type": "execute_result"
    }
   ],
   "source": [
    "scores.scores"
   ]
  },
  {
   "cell_type": "markdown",
   "metadata": {},
   "source": [
    "## How to get the scores out of `Scores`?\n",
    "To get all scores as a Numpy array (similar to how the outcome looked before matchms 0.18.0), we can use the `to_array()` method."
   ]
  },
  {
   "cell_type": "code",
   "execution_count": 17,
   "metadata": {},
   "outputs": [
    {
     "data": {
      "text/plain": [
       "array([[1.00000000e+00, 6.41050958e-03, 1.70386100e-04, 8.59172648e-04,\n",
       "        2.35757313e-03],\n",
       "       [6.41050958e-03, 1.00000000e+00, 1.37105333e-02, 9.45693252e-01,\n",
       "        9.17922823e-05],\n",
       "       [1.70386100e-04, 1.37105333e-02, 1.00000000e+00, 1.53604286e-02,\n",
       "        0.00000000e+00],\n",
       "       [8.59172648e-04, 9.45693252e-01, 1.53604286e-02, 1.00000000e+00,\n",
       "        0.00000000e+00],\n",
       "       [2.35757313e-03, 9.17922823e-05, 0.00000000e+00, 0.00000000e+00,\n",
       "        1.00000000e+00]])"
      ]
     },
     "execution_count": 17,
     "metadata": {},
     "output_type": "execute_result"
    }
   ],
   "source": [
    "scores_array = scores.scores.to_array()\n",
    "scores_array[:5, :5][\"CosineGreedy_score\"]"
   ]
  },
  {
   "cell_type": "code",
   "execution_count": 18,
   "metadata": {},
   "outputs": [
    {
     "data": {
      "text/plain": [
       "array([[40,  2,  1,  4,  1],\n",
       "       [ 2, 75,  2,  5,  1],\n",
       "       [ 1,  2, 37,  4,  0],\n",
       "       [ 4,  5,  4, 66,  0],\n",
       "       [ 1,  1,  0,  0, 43]])"
      ]
     },
     "execution_count": 18,
     "metadata": {},
     "output_type": "execute_result"
    }
   ],
   "source": [
    "scores_array[:5, :5][\"CosineGreedy_matches\"]"
   ]
  },
  {
   "cell_type": "code",
   "execution_count": 19,
   "metadata": {},
   "outputs": [
    {
     "data": {
      "text/plain": [
       "array([(1., 30)],\n",
       "      dtype=[('CosineGreedy_score', '<f8'), ('CosineGreedy_matches', '<i4')])"
      ]
     },
     "execution_count": 19,
     "metadata": {},
     "output_type": "execute_result"
    }
   ],
   "source": [
    "# Individual scores can also be accessed directly from a Scores object:\n",
    "scores.scores[5, 5]"
   ]
  },
  {
   "cell_type": "markdown",
   "metadata": {},
   "source": [
    "## Get highest scoring results for a spectrum of interest\n",
    "Scores allows to get the corresponding scores for a query/reference spectrum. If multiple scores exist (such as in our case where we have Cosine-score and matches), the desired score to sort for needs to be specified.\n",
    "\n",
    "To get the names of the available (already computed) scores, we can use `.score_names`:"
   ]
  },
  {
   "cell_type": "code",
   "execution_count": 20,
   "metadata": {},
   "outputs": [
    {
     "data": {
      "text/plain": [
       "('CosineGreedy_score', 'CosineGreedy_matches')"
      ]
     },
     "execution_count": 20,
     "metadata": {},
     "output_type": "execute_result"
    }
   ],
   "source": [
    "scores.score_names"
   ]
  },
  {
   "cell_type": "code",
   "execution_count": 21,
   "metadata": {},
   "outputs": [
    {
     "data": {
      "text/plain": [
       "[(1., 30),\n",
       " (0.99711049, 2),\n",
       " (0.99534901, 2),\n",
       " (0.99214557, 2),\n",
       " (0.98748381, 2),\n",
       " (0.98461111, 3),\n",
       " (0.98401833, 2),\n",
       " (0.97598497, 2),\n",
       " (0.9757458, 2),\n",
       " (0.97547771, 2)]"
      ]
     },
     "execution_count": 21,
     "metadata": {},
     "output_type": "execute_result"
    }
   ],
   "source": [
    "# Get top 10 results for Cosine-score\n",
    "best_matches = scores.scores_by_query(spectrums[5], name=\"CosineGreedy_score\", sort=True)[:10]\n",
    "[x[1] for x in best_matches]"
   ]
  },
  {
   "cell_type": "code",
   "execution_count": 22,
   "metadata": {},
   "outputs": [
    {
     "data": {
      "text/plain": [
       "[(1., 30),\n",
       " (0.01924283, 7),\n",
       " (0.44857215, 6),\n",
       " (0.00840952, 6),\n",
       " (0.00502379, 6),\n",
       " (0.00666929, 6),\n",
       " (0.03942863, 6),\n",
       " (0.0179647, 5),\n",
       " (0.00082445, 5),\n",
       " (0.0187628, 5)]"
      ]
     },
     "execution_count": 22,
     "metadata": {},
     "output_type": "execute_result"
    }
   ],
   "source": [
    "# Get top 10 results for peak matches\n",
    "best_matches2 = scores.scores_by_query(spectrums[5], name=\"CosineGreedy_matches\", sort=True)[:10]\n",
    "[x[1] for x in best_matches2]"
   ]
  },
  {
   "cell_type": "code",
   "execution_count": 23,
   "metadata": {},
   "outputs": [
    {
     "data": {
      "text/plain": [
       "['OC(COC(=O)c1ccccc1)C(O)C(O)COC(=O)c2ccccc2',\n",
       " 'Cc1cc(=O)oc2cc(OC(=O)c3ccccc3)ccc12',\n",
       " 'O=C(Nc1ccccc1OC(=O)c2ccccc2)c3ccccc3',\n",
       " 'COc1cc(CC=C)ccc1OC(=O)c2ccccc2',\n",
       " 'O=C(OCC1OC(C(OC(=O)c2ccccc2)C1OC(=O)c3ccccc3)n4ncc(=O)[nH]c4=O)c5ccccc5',\n",
       " 'O=C(Oc1cccc2ccccc12)c3ccccc3',\n",
       " 'O=C(N1[C@@H](C#N)C2OC2c3ccccc13)c4ccccc4',\n",
       " 'COC(=O)CNC(=O)c1ccccc1',\n",
       " 'COc1c2OCOc2cc(CCN(C)C(=O)c3ccccc3)c1C=C4C(=O)NC(=O)NC4=O',\n",
       " 'COc1c2OCOc2cc(CCN(C)C(=O)c3ccccc3)c1/C=C\\\\4/C(=O)NC(=O)N(C)C4=O']"
      ]
     },
     "execution_count": 23,
     "metadata": {},
     "output_type": "execute_result"
    }
   ],
   "source": [
    "[x[0].get(\"smiles\") for x in best_matches]"
   ]
  },
  {
   "cell_type": "code",
   "execution_count": 24,
   "metadata": {},
   "outputs": [],
   "source": [
    "from rdkit import Chem\n",
    "from rdkit.Chem import Draw\n",
    "\n",
    "for i, smiles in enumerate([x[0].get(\"smiles\") for x in best_matches]):\n",
    "    m = Chem.MolFromSmiles(smiles)\n",
    "    Draw.MolToFile(m, f\"compound_{i}.png\")"
   ]
  },
  {
   "cell_type": "markdown",
   "metadata": {},
   "source": [
    "## Alternative: Get highest scoring results above min_match criteria"
   ]
  },
  {
   "cell_type": "code",
   "execution_count": 25,
   "metadata": {},
   "outputs": [
    {
     "data": {
      "text/plain": [
       "[(1., 30),\n",
       " (0.44857215, 6),\n",
       " (0.39605775, 5),\n",
       " (0.33880658, 5),\n",
       " (0.03942863, 6),\n",
       " (0.03429136, 5),\n",
       " (0.03028157, 5),\n",
       " (0.02845932, 5),\n",
       " (0.01924283, 7),\n",
       " (0.01890612, 5)]"
      ]
     },
     "execution_count": 25,
     "metadata": {},
     "output_type": "execute_result"
    }
   ],
   "source": [
    "min_match = 5\n",
    "sorted_matches = scores.scores_by_query(spectrums[5], name=\"CosineGreedy_score\", sort=True)\n",
    "best_matches = [x for x in sorted_matches if x[1][\"CosineGreedy_matches\"] >= min_match][:10]\n",
    "[x[1] for x in best_matches]"
   ]
  },
  {
   "cell_type": "markdown",
   "metadata": {},
   "source": [
    "## Computing spectra similarities between all spectra - Modified Cosine score\n",
    "In the following part the **Modified Cosine similarity** scores (Watrous et al., 2012) between all possible spectra pairs will be calculated.\n",
    "\n",
    "The modified cosine score aims at quantifying the similarity between two\n",
    "mass spectra. The score is calculated by finding best possible matches between\n",
    "peaks of two spectra. Two peaks are considered a potential match if their\n",
    "m/z ratios lie within the given 'tolerance', or if their m/z ratios\n",
    "lie within the tolerance once a mass-shift is applied. The mass shift is\n",
    "simply the difference in precursor-m/z between the two spectra.\n",
    "See Watrous et al. [PNAS, 2012, https://www.pnas.org/content/109/26/E1743]\n",
    "for further details."
   ]
  },
  {
   "cell_type": "code",
   "execution_count": 26,
   "metadata": {},
   "outputs": [],
   "source": [
    "# Careful --> this computation may take a while!\n",
    "from matchms.similarity import ModifiedCosine\n",
    "\n",
    "similarity_measure = ModifiedCosine(tolerance=0.005)\n",
    "scores = calculate_scores(spectrums, spectrums, similarity_measure, is_symmetric=True)"
   ]
  },
  {
   "cell_type": "code",
   "execution_count": 27,
   "metadata": {},
   "outputs": [
    {
     "data": {
      "text/plain": [
       "[(1., 30),\n",
       " (0.01958512, 9),\n",
       " (0.00866656, 9),\n",
       " (0.00940183, 8),\n",
       " (0.00453957, 8),\n",
       " (0.00175019, 7),\n",
       " (0.00674538, 7),\n",
       " (0.03060675, 7),\n",
       " (0.0029307, 7),\n",
       " (0.00979578, 7)]"
      ]
     },
     "execution_count": 27,
     "metadata": {},
     "output_type": "execute_result"
    }
   ],
   "source": [
    "min_match = 5\n",
    "sorted_matches = scores.scores_by_query(spectrums[5], name=\"ModifiedCosine_matches\", sort=True)\n",
    "best_matches = [x for x in sorted_matches if x[1][\"ModifiedCosine_matches\"] >= min_match][:10]\n",
    "[x[1] for x in best_matches]"
   ]
  },
  {
   "cell_type": "code",
   "execution_count": 28,
   "metadata": {},
   "outputs": [
    {
     "data": {
      "text/plain": [
       "Text(0, 0.5, 'Spectrum #ID')"
      ]
     },
     "execution_count": 28,
     "metadata": {},
     "output_type": "execute_result"
    },
    {
     "data": {
      "image/png": "[encoded data removed]",
      "text/plain": [
       "<Figure size 900x900 with 2 Axes>"
      ]
     },
     "metadata": {
      "needs_background": "light"
     },
     "output_type": "display_data"
    }
   ],
   "source": [
    "scores_array = scores.scores.to_array()\n",
    "\n",
    "plt.figure(figsize=(6,6), dpi=150)\n",
    "plt.imshow(scores_array[:50, :50][\"ModifiedCosine_score\"], cmap=\"viridis\")\n",
    "plt.colorbar(shrink=0.7)\n",
    "plt.title(\"Modified Cosine spectra similarities\")\n",
    "plt.xlabel(\"Spectrum #ID\")\n",
    "plt.ylabel(\"Spectrum #ID\")\n",
    "#plt.savefig(\"modified_cosine_scores.png\")"
   ]
  },
  {
   "cell_type": "code",
   "execution_count": 29,
   "metadata": {},
   "outputs": [
    {
     "data": {
      "text/plain": [
       "Text(0, 0.5, 'Spectrum #ID')"
      ]
     },
     "execution_count": 29,
     "metadata": {},
     "output_type": "execute_result"
    },
    {
     "data": {
      "image/png": "[encoded data removed]",
      "text/plain": [
       "<Figure size 900x900 with 2 Axes>"
      ]
     },
     "metadata": {
      "needs_background": "light"
     },
     "output_type": "display_data"
    }
   ],
   "source": [
    "min_match = 5\n",
    "\n",
    "plt.figure(figsize=(6,6), dpi=150)\n",
    "plt.imshow(scores_array[:50, :50][\"ModifiedCosine_score\"] \\\n",
    "           * (scores_array[:50, :50][\"ModifiedCosine_matches\"] >= min_match), cmap=\"viridis\")\n",
    "plt.colorbar(shrink=0.7)\n",
    "plt.title(\"Modified Cosine spectra similarities (min_match=5)\")\n",
    "plt.xlabel(\"Spectrum #ID\")\n",
    "plt.ylabel(\"Spectrum #ID\")\n",
    "#plt.savefig(\"modified_cosine_scores_min_match5.png\")"
   ]
  },
  {
   "cell_type": "markdown",
   "metadata": {},
   "source": [
    "This suggests that -for instance- `spectrums[11]` seems to have several related other ones among the first 50 spectrums. Let's have a closer look at it."
   ]
  },
  {
   "cell_type": "code",
   "execution_count": 30,
   "metadata": {},
   "outputs": [
    {
     "data": {
      "text/plain": [
       "[(1., 151),\n",
       " (0.95295779, 15),\n",
       " (0.94542762, 13),\n",
       " (0.89735889, 17),\n",
       " (0.7886489, 12),\n",
       " (0.77433041, 9),\n",
       " (0.74935776, 8),\n",
       " (0.72854032, 8),\n",
       " (0.55896333, 7),\n",
       " (0.52331993, 9)]"
      ]
     },
     "execution_count": 30,
     "metadata": {},
     "output_type": "execute_result"
    }
   ],
   "source": [
    "min_match = 5\n",
    "sorted_matches = scores.scores_by_query(spectrums[11], name=\"ModifiedCosine_score\", sort=True)\n",
    "best_matches = [x for x in sorted_matches if x[1][\"ModifiedCosine_matches\"] >= min_match][:10]\n",
    "[x[1] for x in best_matches]"
   ]
  },
  {
   "cell_type": "code",
   "execution_count": 31,
   "metadata": {},
   "outputs": [
    {
     "data": {
      "text/plain": [
       "['CC(C)[C@H](NS(=O)(=O)c1ccc(C)cc1)C(=O)N2CCC(CC2)C(=O)N[C@@H](CC(=O)O)C(=O)O',\n",
       " 'CCCCCC(NC(=O)C1CCN(CC1)C(=O)[C@@H](NS(=O)(=O)c2ccc(C)cc2)C(C)C)C(=O)O',\n",
       " 'CC(C)[C@H](NS(=O)(=O)c1ccc(C)cc1)C(=O)N2CCC(CC2)C(=O)N[C@H](C(=O)O)c3ccccc3',\n",
       " 'CC(C)[C@H](NS(=O)(=O)c1ccc(C)cc1)C(=O)N2CCC(CC2)C(=O)N[C@@H](CCC(=O)N)C(=O)O',\n",
       " 'COC(=O)C1CCN(CC1)C(=O)C2CCN(CC2)C(=O)[C@@H](NS(=O)(=O)c3ccc(C)cc3)C(C)C',\n",
       " 'CCC(C)[C@H](NS(=O)(=O)c1ccc(C)cc1)C(=O)N2CCC(CC2)C(=O)N[C@H](C(=O)O)c3ccccc3',\n",
       " 'CC(C)C[C@H](NS(=O)(=O)c1ccc(C)cc1)C(=O)N2CCC(CC2)C(=O)N[C@@H](C(C)C)C(=O)O',\n",
       " 'CC(C)C[C@H](NS(=O)(=O)c1ccc(C)cc1)C(=O)N2CCC(CC2)C(=O)N[C@@H](Cc3ccccc3)C(=O)O',\n",
       " 'CCC(C)[C@H](NS(=O)(=O)c1ccc(C)cc1)C(=O)N2CCC(CC2)C(=O)N3CCC(CC3)C(=O)N',\n",
       " 'CCC(C)[C@H](NS(=O)(=O)c1ccc(C)cc1)C(=O)N2CCC(CC2)C(=O)N3CCC(CC3)C(=O)OC']"
      ]
     },
     "execution_count": 31,
     "metadata": {},
     "output_type": "execute_result"
    }
   ],
   "source": [
    "[x[0].get(\"smiles\") for x in best_matches]"
   ]
  },
  {
   "cell_type": "markdown",
   "metadata": {},
   "source": [
    "### Plot the compounds with the highest modified Cosine score"
   ]
  },
  {
   "cell_type": "code",
   "execution_count": 32,
   "metadata": {},
   "outputs": [],
   "source": [
    "from rdkit import Chem\n",
    "from rdkit.Chem import Draw\n",
    "\n",
    "for i, smiles in enumerate([x[0].get(\"smiles\") for x in best_matches]):\n",
    "    m = Chem.MolFromSmiles(smiles)\n",
    "    Draw.MolToFile(m, f\"compound_{i}.png\")"
   ]
  },
  {
   "cell_type": "markdown",
   "metadata": {},
   "source": [
    "## Inspect a case that doesn't work that well..."
   ]
  },
  {
   "cell_type": "code",
   "execution_count": 33,
   "metadata": {},
   "outputs": [],
   "source": [
    "masses = [s.get(\"precursor_mz\") for s in spectrums]"
   ]
  },
  {
   "cell_type": "code",
   "execution_count": 34,
   "metadata": {},
   "outputs": [
    {
     "data": {
      "text/plain": [
       "(array([  12,   84,   97,  104,  105,  156,  469,  470,  532,  533,  602,\n",
       "         604,  708,  853, 1010, 1060, 1085, 1097, 1117, 1265], dtype=int64),)"
      ]
     },
     "execution_count": 34,
     "metadata": {},
     "output_type": "execute_result"
    }
   ],
   "source": [
    "np.where(np.array(masses) > 600)"
   ]
  },
  {
   "cell_type": "code",
   "execution_count": 35,
   "metadata": {},
   "outputs": [
    {
     "data": {
      "text/plain": [
       "[(1., 733),\n",
       " (0.65230153, 8),\n",
       " (0.40915412, 14),\n",
       " (0.40722733, 81),\n",
       " (0.40374948, 54),\n",
       " (0.38470292, 59),\n",
       " (0.3423652, 30),\n",
       " (0.3292672, 6),\n",
       " (0.32810433, 12),\n",
       " (0.32173948, 5)]"
      ]
     },
     "execution_count": 35,
     "metadata": {},
     "output_type": "execute_result"
    }
   ],
   "source": [
    "min_match = 5\n",
    "sorted_matches = scores.scores_by_query(spectrums[97], name=\"ModifiedCosine_score\", sort=True)\n",
    "best_matches = [x for x in sorted_matches if x[1][\"ModifiedCosine_matches\"] >= min_match][:10]\n",
    "[x[1] for x in best_matches]"
   ]
  },
  {
   "cell_type": "code",
   "execution_count": 36,
   "metadata": {},
   "outputs": [],
   "source": [
    "from rdkit import Chem\n",
    "from rdkit.Chem import Draw\n",
    "\n",
    "for i, smiles in enumerate([x[0].get(\"smiles\") for x in best_matches]):\n",
    "    m = Chem.MolFromSmiles(smiles)\n",
    "    Draw.MolToFile(m, f\"compound_{i}.png\")"
   ]
  },
  {
   "cell_type": "code",
   "execution_count": null,
   "metadata": {},
   "outputs": [],
   "source": []
  }
 ],
 "metadata": {
  "kernelspec": {
   "display_name": "Python 3 (ipykernel)",
   "language": "python",
   "name": "python3"
  },
  "language_info": {
   "codemirror_mode": {
    "name": "ipython",
    "version": 3
   },
   "file_extension": ".py",
   "mimetype": "text/x-python",
   "name": "python",
   "nbconvert_exporter": "python",
   "pygments_lexer": "ipython3",
   "version": "3.8.12"
  }
 },
 "nbformat": 4,
 "nbformat_minor": 4
}
