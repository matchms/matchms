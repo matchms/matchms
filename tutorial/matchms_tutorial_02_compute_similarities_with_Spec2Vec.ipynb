{
 "cells": [
  {
   "cell_type": "markdown",
   "metadata": {},
   "source": [
    "# matchms tutorial\n",
    "## part II - compute spectra similarities using Spec2Vec\n",
    "This is part of a matchms and Spec2Vec tutorial.  \n",
    "Part I --> https://blog.esciencecenter.nl/build-your-own-mass-spectrometry-analysis-pipeline-in-python-using-matchms-part-i-d96c718c68ee\n",
    "\n",
    "Part II --> https://blog.esciencecenter.nl/build-a-mass-spectrometry-analysis-pipeline-in-python-using-matchms-part-ii-spec2vec-8aa639571018\n",
    "\n",
    "Here we will start with data that was processed in the part I notebook.\n",
    "See notebook part I: https://github.com/matchms/matchms/blob/master/tutorial/matchms_tutorial_01_building_analysis_pipeline.ipynb\n",
    "\n",
    "\n",
    "### Requirements\n",
    "For this notebook to work, both `matchms` and `Spec2Vec` need to be installed.\n",
    "This can be done by running:\n",
    "\n",
    "```\n",
    "conda create --name spec2vec python=3.8\n",
    "conda activate spec2vec\n",
    "conda install --channel bioconda --channel conda-forge matchms spec2vec\n",
    "```\n",
    "Here we used `spec2vec 0.8.0` and `matchms 0.18.0`."
   ]
  },
  {
   "cell_type": "markdown",
   "metadata": {},
   "source": [
    "## Import data\n",
    "- We will here use data that was imported and processed in the notebook on part I."
   ]
  },
  {
   "cell_type": "code",
   "execution_count": 1,
   "metadata": {},
   "outputs": [
    {
     "name": "stdout",
     "output_type": "stream",
     "text": [
      "matchms: 0.18.0\n",
      "spec2vec 0.8.0\n"
     ]
    }
   ],
   "source": [
    "# Check versions\n",
    "import matchms\n",
    "import spec2vec\n",
    "print(\"matchms:\", matchms.__version__)\n",
    "print(\"spec2vec\", spec2vec.__version__)"
   ]
  },
  {
   "cell_type": "code",
   "execution_count": 2,
   "metadata": {},
   "outputs": [],
   "source": [
    "import os\n",
    "import numpy as np\n",
    "from matplotlib import pyplot as plt\n",
    "from matchms.importing import load_from_json\n",
    "\n",
    "path_data = os.path.join(os.path.dirname(os.getcwd()), \"data\") #\"...\" enter your pathname to the downloaded file\n",
    "file_json = os.path.join(path_data, \"GNPS-NIH-NATURALPRODUCTSLIBRARY_processed.json\")\n",
    "spectrums = list(load_from_json(file_json))"
   ]
  },
  {
   "cell_type": "code",
   "execution_count": 3,
   "metadata": {},
   "outputs": [
    {
     "name": "stdout",
     "output_type": "stream",
     "text": [
      "1267 spectrums found and imported\n"
     ]
    }
   ],
   "source": [
    "print(f\"{len(spectrums)} spectrums found and imported\")"
   ]
  },
  {
   "cell_type": "markdown",
   "metadata": {},
   "source": [
    "---"
   ]
  },
  {
   "cell_type": "markdown",
   "metadata": {},
   "source": [
    "# Spec2Vec\n",
    "## Computing spectra similarities between all spectra using Spec2Vec\n",
    "In the following part spectra similarities will be calculated using Spec2Vec. Spec2Vec is an unsupervised machine learning technique that can learn relationships between peaks from larger spectra datasets.\n",
    "\n",
    "Spec2Vec can be used in two fundamentally different ways.\n",
    "\n",
    "**(1)** Loading a Spec2Vec model which was pretrained on a large MS/MS dataset. \n",
    "\n",
    "**(2)** A Spec2Vec model can be trained on the dataset of interest itself. This requires a sufficiently large datasets (at least several hundreds of spectra).\n",
    "\n",
    "\n",
    "We will do both things in the following part of this notebook."
   ]
  },
  {
   "cell_type": "markdown",
   "metadata": {},
   "source": [
    "## 1. Load a pretrained Spec2Vec model\n",
    "For many use-cases we would not advice to retrain a new model from scratch. Instead a more general model that has been trained on a large MS/MS dataset can simply be loaded and used to calculate similarities, even for spectra which were not part of the initial model training.\n",
    "\n",
    "Here we can download a model trained on about 95,000 spectra from GNPS (positive ionmode) which we provide here: https://zenodo.org/record/4173596."
   ]
  },
  {
   "cell_type": "markdown",
   "metadata": {},
   "source": [
    "Let's now load this model:"
   ]
  },
  {
   "cell_type": "code",
   "execution_count": 15,
   "metadata": {},
   "outputs": [],
   "source": [
    "from pathlib import Path\n",
    "\n",
    "path_model = os.path.join(Path(os.getcwd()).parents[2],\n",
    "                          \"Data\", \"trained_models\") #\"...\" enter your pathname to the downloaded file"
   ]
  },
  {
   "cell_type": "code",
   "execution_count": 18,
   "metadata": {},
   "outputs": [],
   "source": [
    "import gensim\n",
    "\n",
    "filename_model = \"spec2vec_AllPositive_ratio05_filtered_201101_iter_15.model\"\n",
    "filename = os.path.join(path_model, filename_model)\n",
    "\n",
    "model = gensim.models.Word2Vec.load(filename)"
   ]
  },
  {
   "cell_type": "markdown",
   "metadata": {},
   "source": [
    "It is very important to make sure that the \"documents\" are created the same way as for the model training. This mostly comes down here to the number of decimals which needs to be the same here than for the pretrained model. To inspect the words the model has learned, we can look at `model.wv` which is the \"vocabulary\" the model has learned."
   ]
  },
  {
   "cell_type": "code",
   "execution_count": 19,
   "metadata": {},
   "outputs": [
    {
     "data": {
      "text/plain": [
       "'peak@105.07'"
      ]
     },
     "execution_count": 19,
     "metadata": {},
     "output_type": "execute_result"
    }
   ],
   "source": [
    "model.wv.index_to_key[0]  # shows the first word in vocabulary"
   ]
  },
  {
   "cell_type": "code",
   "execution_count": 20,
   "metadata": {},
   "outputs": [
    {
     "name": "stdout",
     "output_type": "stream",
     "text": [
      "Learned vocabulary contains 115910 words.\n"
     ]
    }
   ],
   "source": [
    "print(f\"Learned vocabulary contains {len(model.wv)} words.\")"
   ]
  },
  {
   "cell_type": "markdown",
   "metadata": {},
   "source": [
    "This means the model will expect words with 2 decimals!"
   ]
  },
  {
   "cell_type": "markdown",
   "metadata": {},
   "source": [
    "## Compute similarities"
   ]
  },
  {
   "cell_type": "code",
   "execution_count": 21,
   "metadata": {},
   "outputs": [],
   "source": [
    "from matchms import calculate_scores\n",
    "from spec2vec import Spec2Vec\n",
    "\n",
    "spec2vec_similarity = Spec2Vec(model=model,\n",
    "                               intensity_weighting_power=0.5,\n",
    "                               allowed_missing_percentage=5.0)\n",
    "\n",
    "scores = calculate_scores(spectrums, spectrums, spec2vec_similarity,\n",
    "                          is_symmetric=True)"
   ]
  },
  {
   "cell_type": "markdown",
   "metadata": {},
   "source": [
    "## Get highest scoring results for a spectrum of interest"
   ]
  },
  {
   "cell_type": "code",
   "execution_count": 22,
   "metadata": {},
   "outputs": [
    {
     "data": {
      "text/plain": [
       "[0.9999999999999996,\n",
       " 0.6323327469158131,\n",
       " 0.6094968210816917,\n",
       " 0.563365165096553,\n",
       " 0.5322113813011992,\n",
       " 0.5311480111999453,\n",
       " 0.49455675109741976,\n",
       " 0.48921947174118874,\n",
       " 0.46979465313015495,\n",
       " 0.40925116562265457]"
      ]
     },
     "execution_count": 22,
     "metadata": {},
     "output_type": "execute_result"
    }
   ],
   "source": [
    "best_matches = scores.scores_by_query(spectrums[11], sort=True)[:10]\n",
    "[x[1] for x in best_matches]"
   ]
  },
  {
   "cell_type": "code",
   "execution_count": 23,
   "metadata": {},
   "outputs": [
    {
     "data": {
      "text/plain": [
       "['CC(C)[C@H](NS(=O)(=O)c1ccc(C)cc1)C(=O)N2CCC(CC2)C(=O)N[C@@H](CC(=O)O)C(=O)O',\n",
       " 'CC(C)[C@H](NS(=O)(=O)c1ccc(C)cc1)C(=O)N2CCC(CC2)C(=O)N[C@H](C(=O)O)c3ccccc3',\n",
       " 'CCCCCC(NC(=O)C1CCN(CC1)C(=O)[C@@H](NS(=O)(=O)c2ccc(C)cc2)C(C)C)C(=O)O',\n",
       " 'CC(C)[C@H](NS(=O)(=O)c1ccc(C)cc1)C(=O)N2CCC(CC2)C(=O)N[C@@H](CCC(=O)N)C(=O)O',\n",
       " 'CC(C)C[C@H](NS(=O)(=O)c1ccc(C)cc1)C(=O)N2CCC(CC2)C(=O)N[C@@H](C(C)C)C(=O)O',\n",
       " 'CCC(C)[C@H](NS(=O)(=O)c1ccc(C)cc1)C(=O)N2CCC(CC2)C(=O)N[C@H](C(=O)O)c3ccccc3',\n",
       " 'COC(=O)C1CCN(CC1)C(=O)C2CCN(CC2)C(=O)[C@@H](NS(=O)(=O)c3ccc(C)cc3)C(C)C',\n",
       " 'CC(C)C[C@H](NS(=O)(=O)c1ccc(C)cc1)C(=O)N2CCC(CC2)C(=O)N[C@@H](Cc3ccccc3)C(=O)O',\n",
       " 'CCC(C)[C@H](NS(=O)(=O)c1ccc(C)cc1)C(=O)N2CCC(CC2)C(=O)N3CCC(CC3)C(=O)N',\n",
       " 'CSCC[C@H](NS(=O)(=O)c1ccc(C)cc1)C(=O)N2CCC(CC2)C(=O)N[C@@H](Cc3ccc(O)cc3)C(=O)O']"
      ]
     },
     "execution_count": 23,
     "metadata": {},
     "output_type": "execute_result"
    }
   ],
   "source": [
    "[x[0].get(\"smiles\") for x in best_matches]"
   ]
  },
  {
   "cell_type": "code",
   "execution_count": 24,
   "metadata": {},
   "outputs": [],
   "source": [
    "from rdkit import Chem\n",
    "from rdkit.Chem import Draw\n",
    "\n",
    "for i, smiles in enumerate([x[0].get(\"smiles\") for x in best_matches]):\n",
    "    m = Chem.MolFromSmiles(smiles)\n",
    "    Draw.MolToFile(m, f\"compound_{i}.png\")"
   ]
  },
  {
   "cell_type": "code",
   "execution_count": 25,
   "metadata": {},
   "outputs": [
    {
     "data": {
      "text/plain": [
       "[1.0,\n",
       " 0.9346579480830896,\n",
       " 0.9259069095210206,\n",
       " 0.8994992281075841,\n",
       " 0.8889616172843696,\n",
       " 0.886971469689494,\n",
       " 0.8856347491436403,\n",
       " 0.8797176569221946,\n",
       " 0.8053718973741254,\n",
       " 0.8041226578863799]"
      ]
     },
     "execution_count": 25,
     "metadata": {},
     "output_type": "execute_result"
    }
   ],
   "source": [
    "best_matches = scores.scores_by_query(spectrums[5], sort=True)[:10]\n",
    "[x[1] for x in best_matches]"
   ]
  },
  {
   "cell_type": "code",
   "execution_count": 26,
   "metadata": {},
   "outputs": [],
   "source": [
    "from rdkit import Chem\n",
    "from rdkit.Chem import Draw\n",
    "\n",
    "for i, smiles in enumerate([x[0].get(\"smiles\") for x in best_matches]):\n",
    "    m = Chem.MolFromSmiles(smiles)\n",
    "    Draw.MolToFile(m, f\"compound_{i}.png\")"
   ]
  },
  {
   "cell_type": "code",
   "execution_count": 27,
   "metadata": {},
   "outputs": [
    {
     "data": {
      "text/plain": [
       "['OC(COC(=O)c1ccccc1)C(O)C(O)COC(=O)c2ccccc2',\n",
       " 'Cc1cc(=O)oc2cc(OC(=O)c3ccccc3)ccc12',\n",
       " 'O=C(Nc1ccccc1OC(=O)c2ccccc2)c3ccccc3',\n",
       " 'COC(=O)CNC(=O)c1ccccc1',\n",
       " 'O=C(Oc1cccc2ccccc12)c3ccccc3',\n",
       " 'O=C(N1CCCCC1)c2ccccc2',\n",
       " 'O=C(OCC1OC(C(OC(=O)c2ccccc2)C1OC(=O)c3ccccc3)n4ncc(=O)[nH]c4=O)c5ccccc5',\n",
       " 'COc1cc(CC=C)ccc1OC(=O)c2ccccc2',\n",
       " 'O=C(N1[C@@H](C#N)C2OC2c3ccccc13)c4ccccc4',\n",
       " 'COc1cc(/C=C(\\\\NC(=O)c2ccccc2)/C(=O)NC(C(=O)O)c3ccccc3)cc(OC)c1OC']"
      ]
     },
     "execution_count": 27,
     "metadata": {},
     "output_type": "execute_result"
    }
   ],
   "source": [
    "[x[0].get(\"smiles\") for x in best_matches]"
   ]
  },
  {
   "cell_type": "markdown",
   "metadata": {},
   "source": [
    "Those smiles can be beter inspected by plotting the corresponding chemical structures, e.g. using rdkit:"
   ]
  },
  {
   "cell_type": "code",
   "execution_count": 28,
   "metadata": {},
   "outputs": [],
   "source": [
    "from rdkit import Chem\n",
    "from rdkit.Chem import Draw\n",
    "\n",
    "for i, smiles in enumerate([x[0].get(\"smiles\") for x in best_matches]):\n",
    "    m = Chem.MolFromSmiles(smiles)\n",
    "    Draw.MolToFile(m, f\"compound_{i}.png\")"
   ]
  },
  {
   "cell_type": "markdown",
   "metadata": {},
   "source": [
    "## Visualize the results"
   ]
  },
  {
   "cell_type": "code",
   "execution_count": 30,
   "metadata": {
    "scrolled": true
   },
   "outputs": [
    {
     "data": {
      "image/png": "[encoded data removed]",
      "text/plain": [
       "<Figure size 900x900 with 2 Axes>"
      ]
     },
     "metadata": {
      "needs_background": "light"
     },
     "output_type": "display_data"
    }
   ],
   "source": [
    "scores_array = scores.scores.to_array()\n",
    "\n",
    "plt.figure(figsize=(6,6), dpi=150)\n",
    "plt.imshow(scores_array[:50, :50], cmap=\"viridis\")\n",
    "plt.colorbar(shrink=0.7)\n",
    "plt.title(\"Spec2Vec spectra similarities\")\n",
    "plt.xlabel(\"Spectrum #ID\")\n",
    "plt.ylabel(\"Spectrum #ID\")\n",
    "plt.clim(0, 1)  # Spec2Vec scores can be between -1 and 1\n",
    "#plt.savefig(\"spec2vec_scores.pdf\")"
   ]
  },
  {
   "cell_type": "markdown",
   "metadata": {},
   "source": [
    "## 2. Train a new Spec2Vec model from scratch\n",
    "Training a Spec2Vec model is fairly straightforward and relatively fast. In general, training a new model from scratch makes sense when a lot a data is present to train on as it gives more options to optimize the results when compared to simply using a pretrained model as done above."
   ]
  },
  {
   "cell_type": "markdown",
   "metadata": {},
   "source": [
    "First we create \"spectrum documents\" from the imported and processed spectra:"
   ]
  },
  {
   "cell_type": "code",
   "execution_count": 31,
   "metadata": {},
   "outputs": [],
   "source": [
    "from spec2vec import SpectrumDocument\n",
    "\n",
    "spectrum_documents = [SpectrumDocument(s, n_decimals=2) for s in spectrums]"
   ]
  },
  {
   "cell_type": "code",
   "execution_count": 32,
   "metadata": {},
   "outputs": [
    {
     "data": {
      "text/plain": [
       "1267"
      ]
     },
     "execution_count": 32,
     "metadata": {},
     "output_type": "execute_result"
    }
   ],
   "source": [
    "len(spectrum_documents)"
   ]
  },
  {
   "cell_type": "markdown",
   "metadata": {},
   "source": [
    "Then we train a new model on the 1267 found spectra. This can take a few minutes to train."
   ]
  },
  {
   "cell_type": "code",
   "execution_count": 33,
   "metadata": {},
   "outputs": [
    {
     "name": "stdout",
     "output_type": "stream",
     "text": [
      "  Epoch 1 of 25.Change in loss after epoch 1: 274233.46875\n",
      "  Epoch 2 of 25.Change in loss after epoch 2: 210155.0\n",
      "  Epoch 3 of 25.Change in loss after epoch 3: 195759.53125\n",
      "  Epoch 4 of 25.Change in loss after epoch 4: 186267.0625\n",
      "  Epoch 5 of 25.Change in loss after epoch 5: 177802.1875\n",
      "  Epoch 6 of 25.Change in loss after epoch 6: 173029.75\n",
      "  Epoch 7 of 25.Change in loss after epoch 7: 160432.0\n",
      "  Epoch 8 of 25.Change in loss after epoch 8: 155855.625\n",
      "  Epoch 9 of 25.Change in loss after epoch 9: 152814.25\n",
      "  Epoch 10 of 25.Change in loss after epoch 10: 148126.375\n",
      "  Epoch 11 of 25.Change in loss after epoch 11: 144889.375\n",
      "  Epoch 12 of 25.Change in loss after epoch 12: 141123.625\n",
      "  Epoch 13 of 25.Change in loss after epoch 13: 135344.25\n",
      "  Epoch 14 of 25.Change in loss after epoch 14: 132145.75\n",
      "  Epoch 15 of 25.Change in loss after epoch 15: 129755.0\n",
      "  Epoch 16 of 25.Change in loss after epoch 16: 128193.75\n",
      "  Epoch 17 of 25.Change in loss after epoch 17: 124447.0\n",
      "  Epoch 18 of 25.Change in loss after epoch 18: 126290.5\n",
      "  Epoch 19 of 25.Change in loss after epoch 19: 119978.75\n",
      "  Epoch 20 of 25.Change in loss after epoch 20: 118716.5\n",
      "  Epoch 21 of 25.Change in loss after epoch 21: 115316.25\n",
      "  Epoch 22 of 25.Change in loss after epoch 22: 113061.25\n",
      "  Epoch 23 of 25.Change in loss after epoch 23: 110915.0\n",
      "  Epoch 24 of 25.Change in loss after epoch 24: 109322.25\n",
      "  Epoch 25 of 25.Change in loss after epoch 25: 106782.5\n",
      "Saving model with name: tutorial_model.model\n"
     ]
    }
   ],
   "source": [
    "from spec2vec.model_building import train_new_word2vec_model\n",
    "\n",
    "model_file = \"tutorial_model.model\"\n",
    "model = train_new_word2vec_model(spectrum_documents, iterations=[25], filename=model_file,\n",
    "                                 workers=2, progress_logger=True)"
   ]
  },
  {
   "cell_type": "markdown",
   "metadata": {},
   "source": [
    "## Compute similarities\n",
    "Here, we will:\n",
    "- load our just trained model\n",
    "- compute all similarites between the spectra"
   ]
  },
  {
   "cell_type": "code",
   "execution_count": 34,
   "metadata": {},
   "outputs": [],
   "source": [
    "#optional: load the model if you trained it already before:\n",
    "import gensim\n",
    "\n",
    "model = gensim.models.Word2Vec.load(\"tutorial_model.model\")"
   ]
  },
  {
   "cell_type": "code",
   "execution_count": 35,
   "metadata": {},
   "outputs": [],
   "source": [
    "from matchms import calculate_scores\n",
    "from spec2vec import Spec2Vec\n",
    "\n",
    "spec2vec_similarity = Spec2Vec(model=model, intensity_weighting_power=0.5,\n",
    "                               allowed_missing_percentage=5.0)\n",
    "\n",
    "scores = calculate_scores(spectrum_documents, spectrum_documents, spec2vec_similarity, is_symmetric=True)"
   ]
  },
  {
   "cell_type": "markdown",
   "metadata": {},
   "source": [
    "## Get highest scoring results for a spectrum of interest"
   ]
  },
  {
   "cell_type": "code",
   "execution_count": 44,
   "metadata": {},
   "outputs": [
    {
     "data": {
      "text/plain": [
       "[0.9999999999999996,\n",
       " 0.8811375159293446,\n",
       " 0.8785382240817112,\n",
       " 0.8674065549558589,\n",
       " 0.8634502875484844,\n",
       " 0.86344719988381,\n",
       " 0.8629959603674551,\n",
       " 0.8373854805544433,\n",
       " 0.8366474848814489,\n",
       " 0.8327883009327168]"
      ]
     },
     "execution_count": 44,
     "metadata": {},
     "output_type": "execute_result"
    }
   ],
   "source": [
    "best_matches = scores.scores_by_query(spectrum_documents[11], sort=True)[:10]\n",
    "[x[1] for x in best_matches]"
   ]
  },
  {
   "cell_type": "code",
   "execution_count": 45,
   "metadata": {},
   "outputs": [
    {
     "data": {
      "text/plain": [
       "['CC(C)[C@H](NS(=O)(=O)c1ccc(C)cc1)C(=O)N2CCC(CC2)C(=O)N[C@@H](CC(=O)O)C(=O)O',\n",
       " 'CC(C)[C@H](NS(=O)(=O)c1ccc(C)cc1)C(=O)N2CCC(CC2)C(=O)N[C@@H](CCC(=O)N)C(=O)O',\n",
       " 'CCC(C)[C@H](NS(=O)(=O)c1ccc(C)cc1)C(=O)N2CCC(CC2)C(=O)N[C@H](C(=O)O)c3ccccc3',\n",
       " 'CCCCCC(NC(=O)C1CCN(CC1)C(=O)[C@@H](NS(=O)(=O)c2ccc(C)cc2)C(C)C)C(=O)O',\n",
       " 'CC(C)C[C@H](NS(=O)(=O)c1ccc(C)cc1)C(=O)N2CCC(CC2)C(=O)N[C@@H](C(C)C)C(=O)O',\n",
       " 'CC(C)[C@H](NS(=O)(=O)c1ccc(C)cc1)C(=O)N2CCC(CC2)C(=O)N[C@H](C(=O)O)c3ccccc3',\n",
       " 'CCC(C)[C@H](NS(=O)(=O)c1ccc(C)cc1)C(=O)N2CCC(CC2)C(=O)N3CCC(CC3)C(=O)N',\n",
       " 'CC(C)C[C@H](NS(=O)(=O)c1ccc(C)cc1)C(=O)N2CCC(CC2)C(=O)N[C@@H](Cc3ccccc3)C(=O)O',\n",
       " 'CCC(C)[C@H](NS(=O)(=O)c1ccc(C)cc1)C(=O)N2CCC(CC2)C(=O)N3CCC(CC3)C(=O)OC',\n",
       " 'COC(=O)C1CCN(CC1)C(=O)C2CCN(CC2)C(=O)[C@@H](NS(=O)(=O)c3ccc(C)cc3)C(C)C']"
      ]
     },
     "execution_count": 45,
     "metadata": {},
     "output_type": "execute_result"
    }
   ],
   "source": [
    "[x[0].get(\"smiles\") for x in best_matches]"
   ]
  },
  {
   "cell_type": "markdown",
   "metadata": {},
   "source": [
    "Those smiles can be beter inspected by plotting the corresponding chemical structures, e.g. using rdkit:"
   ]
  },
  {
   "cell_type": "code",
   "execution_count": 46,
   "metadata": {},
   "outputs": [],
   "source": [
    "from rdkit import Chem\n",
    "from rdkit.Chem import Draw\n",
    "\n",
    "for i, smiles in enumerate([x[0].get(\"smiles\") for x in best_matches]):\n",
    "    m = Chem.MolFromSmiles(smiles)\n",
    "    Draw.MolToFile(m, f\"compound_{i}.png\")"
   ]
  },
  {
   "cell_type": "code",
   "execution_count": 36,
   "metadata": {},
   "outputs": [],
   "source": [
    "from rdkit.Chem.Draw import rdMolDraw2D\n",
    "\n",
    "smiles = 'CCC(C)C[C@H](NS(=O)(=O)c1ccc(CC)cc1)C(=O)N2CCC(CC2)C(=O)N[C@@H](Cc3ccccc3)C(=O)O'\n",
    "d2d = rdMolDraw2D.MolDraw2DSVG(250, 200)\n",
    "m = Chem.MolFromSmiles(smiles)\n",
    "d2d.DrawMolecule(m)\n",
    "d2d.FinishDrawing()\n",
    "text1 = d2d.GetDrawingText()\n",
    "\n",
    "file1 = open(\"compound1_test.svg\",\"w\")\n",
    "for line in text1:\n",
    "    file1.write(line) \n",
    "file1.close() "
   ]
  },
  {
   "cell_type": "code",
   "execution_count": 38,
   "metadata": {},
   "outputs": [
    {
     "data": {
      "image/svg+xml": [
       "<svg xmlns=\"http://www.w3.org/2000/svg\" xmlns:rdkit=\"http://www.rdkit.org/xml\" xmlns:xlink=\"http://www.w3.org/1999/xlink\" version=\"1.1\" baseProfile=\"full\" xml:space=\"preserve\" width=\"250px\" height=\"200px\" viewBox=\"0 0 250 200\">\n",
       "<!-- END OF HEADER -->\n",
       "<rect style=\"opacity:1.0;fill:#FFFFFF;stroke:none\" width=\"250.0\" height=\"200.0\" x=\"0.0\" y=\"0.0\"> </rect>\n",
       "<path class=\"bond-0 atom-0 atom-1\" d=\"M 42.6,167.9 L 51.9,153.2\" style=\"fill:none;fill-rule:evenodd;stroke:#000000;stroke-width:2.0px;stroke-linecap:butt;stroke-linejoin:miter;stroke-opacity:1\"/>\n",
       "<path class=\"bond-1 atom-1 atom-2\" d=\"M 51.9,153.2 L 69.4,153.9\" style=\"fill:none;fill-rule:evenodd;stroke:#000000;stroke-width:2.0px;stroke-linecap:butt;stroke-linejoin:miter;stroke-opacity:1\"/>\n",
       "<path class=\"bond-2 atom-2 atom-3\" d=\"M 69.4,153.9 L 77.5,169.4\" style=\"fill:none;fill-rule:evenodd;stroke:#000000;stroke-width:2.0px;stroke-linecap:butt;stroke-linejoin:miter;stroke-opacity:1\"/>\n",
       "<path class=\"bond-3 atom-2 atom-4\" d=\"M 69.4,153.9 L 78.8,139.1\" style=\"fill:none;fill-rule:evenodd;stroke:#000000;stroke-width:2.0px;stroke-linecap:butt;stroke-linejoin:miter;stroke-opacity:1\"/>\n",
       "<path class=\"bond-4 atom-5 atom-4\" d=\"M 72.3,127.7 L 73.1,127.3\" style=\"fill:none;fill-rule:evenodd;stroke:#000000;stroke-width:1.0px;stroke-linecap:butt;stroke-linejoin:miter;stroke-opacity:1\"/>\n",
       "<path class=\"bond-4 atom-5 atom-4\" d=\"M 73.9,131.8 L 75.5,131.0\" style=\"fill:none;fill-rule:evenodd;stroke:#000000;stroke-width:1.0px;stroke-linecap:butt;stroke-linejoin:miter;stroke-opacity:1\"/>\n",
       "<path class=\"bond-4 atom-5 atom-4\" d=\"M 75.6,135.9 L 77.9,134.6\" style=\"fill:none;fill-rule:evenodd;stroke:#000000;stroke-width:1.0px;stroke-linecap:butt;stroke-linejoin:miter;stroke-opacity:1\"/>\n",
       "<path class=\"bond-4 atom-5 atom-4\" d=\"M 77.2,139.9 L 80.3,138.3\" style=\"fill:none;fill-rule:evenodd;stroke:#000000;stroke-width:1.0px;stroke-linecap:butt;stroke-linejoin:miter;stroke-opacity:1\"/>\n",
       "<path class=\"bond-5 atom-5 atom-6\" d=\"M 70.7,123.6 L 63.1,123.3\" style=\"fill:none;fill-rule:evenodd;stroke:#000000;stroke-width:2.0px;stroke-linecap:butt;stroke-linejoin:miter;stroke-opacity:1\"/>\n",
       "<path class=\"bond-5 atom-5 atom-6\" d=\"M 63.1,123.3 L 55.5,123.0\" style=\"fill:none;fill-rule:evenodd;stroke:#0000FF;stroke-width:2.0px;stroke-linecap:butt;stroke-linejoin:miter;stroke-opacity:1\"/>\n",
       "<path class=\"bond-17 atom-5 atom-18\" d=\"M 70.7,123.6 L 80.0,108.8\" style=\"fill:none;fill-rule:evenodd;stroke:#000000;stroke-width:2.0px;stroke-linecap:butt;stroke-linejoin:miter;stroke-opacity:1\"/>\n",
       "<path class=\"bond-6 atom-6 atom-7\" d=\"M 51.7,120.0 L 49.1,115.2\" style=\"fill:none;fill-rule:evenodd;stroke:#0000FF;stroke-width:2.0px;stroke-linecap:butt;stroke-linejoin:miter;stroke-opacity:1\"/>\n",
       "<path class=\"bond-6 atom-6 atom-7\" d=\"M 49.1,115.2 L 46.6,110.3\" style=\"fill:none;fill-rule:evenodd;stroke:#CCCC00;stroke-width:2.0px;stroke-linecap:butt;stroke-linejoin:miter;stroke-opacity:1\"/>\n",
       "<path class=\"bond-7 atom-7 atom-8\" d=\"M 42.2,106.9 L 36.8,109.7\" style=\"fill:none;fill-rule:evenodd;stroke:#CCCC00;stroke-width:2.0px;stroke-linecap:butt;stroke-linejoin:miter;stroke-opacity:1\"/>\n",
       "<path class=\"bond-7 atom-7 atom-8\" d=\"M 36.8,109.7 L 31.4,112.6\" style=\"fill:none;fill-rule:evenodd;stroke:#FF0000;stroke-width:2.0px;stroke-linecap:butt;stroke-linejoin:miter;stroke-opacity:1\"/>\n",
       "<path class=\"bond-7 atom-7 atom-8\" d=\"M 43.9,110.0 L 38.4,112.8\" style=\"fill:none;fill-rule:evenodd;stroke:#CCCC00;stroke-width:2.0px;stroke-linecap:butt;stroke-linejoin:miter;stroke-opacity:1\"/>\n",
       "<path class=\"bond-7 atom-7 atom-8\" d=\"M 38.4,112.8 L 33.0,115.7\" style=\"fill:none;fill-rule:evenodd;stroke:#FF0000;stroke-width:2.0px;stroke-linecap:butt;stroke-linejoin:miter;stroke-opacity:1\"/>\n",
       "<path class=\"bond-8 atom-7 atom-9\" d=\"M 47.9,107.9 L 53.3,105.0\" style=\"fill:none;fill-rule:evenodd;stroke:#CCCC00;stroke-width:2.0px;stroke-linecap:butt;stroke-linejoin:miter;stroke-opacity:1\"/>\n",
       "<path class=\"bond-8 atom-7 atom-9\" d=\"M 53.3,105.0 L 58.7,102.2\" style=\"fill:none;fill-rule:evenodd;stroke:#FF0000;stroke-width:2.0px;stroke-linecap:butt;stroke-linejoin:miter;stroke-opacity:1\"/>\n",
       "<path class=\"bond-8 atom-7 atom-9\" d=\"M 46.3,104.8 L 51.7,101.9\" style=\"fill:none;fill-rule:evenodd;stroke:#CCCC00;stroke-width:2.0px;stroke-linecap:butt;stroke-linejoin:miter;stroke-opacity:1\"/>\n",
       "<path class=\"bond-8 atom-7 atom-9\" d=\"M 51.7,101.9 L 57.1,99.1\" style=\"fill:none;fill-rule:evenodd;stroke:#FF0000;stroke-width:2.0px;stroke-linecap:butt;stroke-linejoin:miter;stroke-opacity:1\"/>\n",
       "<path class=\"bond-9 atom-7 atom-10\" d=\"M 43.5,104.5 L 40.3,98.2\" style=\"fill:none;fill-rule:evenodd;stroke:#CCCC00;stroke-width:2.0px;stroke-linecap:butt;stroke-linejoin:miter;stroke-opacity:1\"/>\n",
       "<path class=\"bond-9 atom-7 atom-10\" d=\"M 40.3,98.2 L 37.0,91.9\" style=\"fill:none;fill-rule:evenodd;stroke:#000000;stroke-width:2.0px;stroke-linecap:butt;stroke-linejoin:miter;stroke-opacity:1\"/>\n",
       "<path class=\"bond-10 atom-10 atom-11\" d=\"M 37.0,91.9 L 46.3,77.1\" style=\"fill:none;fill-rule:evenodd;stroke:#000000;stroke-width:2.0px;stroke-linecap:butt;stroke-linejoin:miter;stroke-opacity:1\"/>\n",
       "<path class=\"bond-10 atom-10 atom-11\" d=\"M 35.4,87.8 L 42.0,77.5\" style=\"fill:none;fill-rule:evenodd;stroke:#000000;stroke-width:2.0px;stroke-linecap:butt;stroke-linejoin:miter;stroke-opacity:1\"/>\n",
       "<path class=\"bond-39 atom-17 atom-10\" d=\"M 19.5,91.2 L 37.0,91.9\" style=\"fill:none;fill-rule:evenodd;stroke:#000000;stroke-width:2.0px;stroke-linecap:butt;stroke-linejoin:miter;stroke-opacity:1\"/>\n",
       "<path class=\"bond-11 atom-11 atom-12\" d=\"M 46.3,77.1 L 38.2,61.6\" style=\"fill:none;fill-rule:evenodd;stroke:#000000;stroke-width:2.0px;stroke-linecap:butt;stroke-linejoin:miter;stroke-opacity:1\"/>\n",
       "<path class=\"bond-12 atom-12 atom-13\" d=\"M 38.2,61.6 L 20.7,60.9\" style=\"fill:none;fill-rule:evenodd;stroke:#000000;stroke-width:2.0px;stroke-linecap:butt;stroke-linejoin:miter;stroke-opacity:1\"/>\n",
       "<path class=\"bond-12 atom-12 atom-13\" d=\"M 35.4,65.0 L 23.2,64.5\" style=\"fill:none;fill-rule:evenodd;stroke:#000000;stroke-width:2.0px;stroke-linecap:butt;stroke-linejoin:miter;stroke-opacity:1\"/>\n",
       "<path class=\"bond-13 atom-13 atom-14\" d=\"M 20.7,60.9 L 12.6,45.4\" style=\"fill:none;fill-rule:evenodd;stroke:#000000;stroke-width:2.0px;stroke-linecap:butt;stroke-linejoin:miter;stroke-opacity:1\"/>\n",
       "<path class=\"bond-15 atom-13 atom-16\" d=\"M 20.7,60.9 L 11.4,75.7\" style=\"fill:none;fill-rule:evenodd;stroke:#000000;stroke-width:2.0px;stroke-linecap:butt;stroke-linejoin:miter;stroke-opacity:1\"/>\n",
       "<path class=\"bond-14 atom-14 atom-15\" d=\"M 12.6,45.4 L 22.0,30.6\" style=\"fill:none;fill-rule:evenodd;stroke:#000000;stroke-width:2.0px;stroke-linecap:butt;stroke-linejoin:miter;stroke-opacity:1\"/>\n",
       "<path class=\"bond-16 atom-16 atom-17\" d=\"M 11.4,75.7 L 19.5,91.2\" style=\"fill:none;fill-rule:evenodd;stroke:#000000;stroke-width:2.0px;stroke-linecap:butt;stroke-linejoin:miter;stroke-opacity:1\"/>\n",
       "<path class=\"bond-16 atom-16 atom-17\" d=\"M 15.7,76.4 L 21.4,87.2\" style=\"fill:none;fill-rule:evenodd;stroke:#000000;stroke-width:2.0px;stroke-linecap:butt;stroke-linejoin:miter;stroke-opacity:1\"/>\n",
       "<path class=\"bond-18 atom-18 atom-19\" d=\"M 81.6,108.0 L 78.3,101.8\" style=\"fill:none;fill-rule:evenodd;stroke:#000000;stroke-width:2.0px;stroke-linecap:butt;stroke-linejoin:miter;stroke-opacity:1\"/>\n",
       "<path class=\"bond-18 atom-18 atom-19\" d=\"M 78.3,101.8 L 75.1,95.5\" style=\"fill:none;fill-rule:evenodd;stroke:#FF0000;stroke-width:2.0px;stroke-linecap:butt;stroke-linejoin:miter;stroke-opacity:1\"/>\n",
       "<path class=\"bond-18 atom-18 atom-19\" d=\"M 78.5,109.7 L 75.2,103.4\" style=\"fill:none;fill-rule:evenodd;stroke:#000000;stroke-width:2.0px;stroke-linecap:butt;stroke-linejoin:miter;stroke-opacity:1\"/>\n",
       "<path class=\"bond-18 atom-18 atom-19\" d=\"M 75.2,103.4 L 72.0,97.2\" style=\"fill:none;fill-rule:evenodd;stroke:#FF0000;stroke-width:2.0px;stroke-linecap:butt;stroke-linejoin:miter;stroke-opacity:1\"/>\n",
       "<path class=\"bond-19 atom-18 atom-20\" d=\"M 80.0,108.8 L 87.6,109.2\" style=\"fill:none;fill-rule:evenodd;stroke:#000000;stroke-width:2.0px;stroke-linecap:butt;stroke-linejoin:miter;stroke-opacity:1\"/>\n",
       "<path class=\"bond-19 atom-18 atom-20\" d=\"M 87.6,109.2 L 95.2,109.5\" style=\"fill:none;fill-rule:evenodd;stroke:#0000FF;stroke-width:2.0px;stroke-linecap:butt;stroke-linejoin:miter;stroke-opacity:1\"/>\n",
       "<path class=\"bond-20 atom-20 atom-21\" d=\"M 99.4,106.7 L 103.1,100.7\" style=\"fill:none;fill-rule:evenodd;stroke:#0000FF;stroke-width:2.0px;stroke-linecap:butt;stroke-linejoin:miter;stroke-opacity:1\"/>\n",
       "<path class=\"bond-20 atom-20 atom-21\" d=\"M 103.1,100.7 L 106.9,94.8\" style=\"fill:none;fill-rule:evenodd;stroke:#000000;stroke-width:2.0px;stroke-linecap:butt;stroke-linejoin:miter;stroke-opacity:1\"/>\n",
       "<path class=\"bond-40 atom-25 atom-20\" d=\"M 105.6,125.1 L 102.3,118.8\" style=\"fill:none;fill-rule:evenodd;stroke:#000000;stroke-width:2.0px;stroke-linecap:butt;stroke-linejoin:miter;stroke-opacity:1\"/>\n",
       "<path class=\"bond-40 atom-25 atom-20\" d=\"M 102.3,118.8 L 99.0,112.5\" style=\"fill:none;fill-rule:evenodd;stroke:#0000FF;stroke-width:2.0px;stroke-linecap:butt;stroke-linejoin:miter;stroke-opacity:1\"/>\n",
       "<path class=\"bond-21 atom-21 atom-22\" d=\"M 106.9,94.8 L 124.4,95.5\" style=\"fill:none;fill-rule:evenodd;stroke:#000000;stroke-width:2.0px;stroke-linecap:butt;stroke-linejoin:miter;stroke-opacity:1\"/>\n",
       "<path class=\"bond-22 atom-22 atom-23\" d=\"M 124.4,95.5 L 132.5,111.0\" style=\"fill:none;fill-rule:evenodd;stroke:#000000;stroke-width:2.0px;stroke-linecap:butt;stroke-linejoin:miter;stroke-opacity:1\"/>\n",
       "<path class=\"bond-23 atom-23 atom-24\" d=\"M 132.5,111.0 L 123.1,125.8\" style=\"fill:none;fill-rule:evenodd;stroke:#000000;stroke-width:2.0px;stroke-linecap:butt;stroke-linejoin:miter;stroke-opacity:1\"/>\n",
       "<path class=\"bond-25 atom-23 atom-26\" d=\"M 132.5,111.0 L 150.0,111.7\" style=\"fill:none;fill-rule:evenodd;stroke:#000000;stroke-width:2.0px;stroke-linecap:butt;stroke-linejoin:miter;stroke-opacity:1\"/>\n",
       "<path class=\"bond-24 atom-24 atom-25\" d=\"M 123.1,125.8 L 105.6,125.1\" style=\"fill:none;fill-rule:evenodd;stroke:#000000;stroke-width:2.0px;stroke-linecap:butt;stroke-linejoin:miter;stroke-opacity:1\"/>\n",
       "<path class=\"bond-26 atom-26 atom-27\" d=\"M 148.4,112.6 L 151.7,118.8\" style=\"fill:none;fill-rule:evenodd;stroke:#000000;stroke-width:2.0px;stroke-linecap:butt;stroke-linejoin:miter;stroke-opacity:1\"/>\n",
       "<path class=\"bond-26 atom-26 atom-27\" d=\"M 151.7,118.8 L 155.0,125.1\" style=\"fill:none;fill-rule:evenodd;stroke:#FF0000;stroke-width:2.0px;stroke-linecap:butt;stroke-linejoin:miter;stroke-opacity:1\"/>\n",
       "<path class=\"bond-26 atom-26 atom-27\" d=\"M 151.5,110.9 L 154.8,117.2\" style=\"fill:none;fill-rule:evenodd;stroke:#000000;stroke-width:2.0px;stroke-linecap:butt;stroke-linejoin:miter;stroke-opacity:1\"/>\n",
       "<path class=\"bond-26 atom-26 atom-27\" d=\"M 154.8,117.2 L 158.1,123.5\" style=\"fill:none;fill-rule:evenodd;stroke:#FF0000;stroke-width:2.0px;stroke-linecap:butt;stroke-linejoin:miter;stroke-opacity:1\"/>\n",
       "<path class=\"bond-27 atom-26 atom-28\" d=\"M 150.0,111.7 L 153.7,105.8\" style=\"fill:none;fill-rule:evenodd;stroke:#000000;stroke-width:2.0px;stroke-linecap:butt;stroke-linejoin:miter;stroke-opacity:1\"/>\n",
       "<path class=\"bond-27 atom-26 atom-28\" d=\"M 153.7,105.8 L 157.5,99.9\" style=\"fill:none;fill-rule:evenodd;stroke:#0000FF;stroke-width:2.0px;stroke-linecap:butt;stroke-linejoin:miter;stroke-opacity:1\"/>\n",
       "<path class=\"bond-28 atom-28 atom-29\" d=\"M 161.7,97.1 L 169.2,97.4\" style=\"fill:none;fill-rule:evenodd;stroke:#0000FF;stroke-width:2.0px;stroke-linecap:butt;stroke-linejoin:miter;stroke-opacity:1\"/>\n",
       "<path class=\"bond-28 atom-28 atom-29\" d=\"M 169.2,97.4 L 176.8,97.7\" style=\"fill:none;fill-rule:evenodd;stroke:#000000;stroke-width:2.0px;stroke-linecap:butt;stroke-linejoin:miter;stroke-opacity:1\"/>\n",
       "<path class=\"bond-29 atom-29 atom-30\" d=\"M 176.8,97.7 L 187.7,83.9 L 184.7,82.0 Z\" style=\"fill:#000000;fill-rule:evenodd;fill-opacity:1;stroke:#000000;stroke-width:2.0px;stroke-linecap:butt;stroke-linejoin:miter;stroke-opacity:1;\"/>\n",
       "<path class=\"bond-36 atom-29 atom-37\" d=\"M 176.8,97.7 L 184.9,113.2\" style=\"fill:none;fill-rule:evenodd;stroke:#000000;stroke-width:2.0px;stroke-linecap:butt;stroke-linejoin:miter;stroke-opacity:1\"/>\n",
       "<path class=\"bond-30 atom-30 atom-31\" d=\"M 186.2,82.9 L 203.7,83.6\" style=\"fill:none;fill-rule:evenodd;stroke:#000000;stroke-width:2.0px;stroke-linecap:butt;stroke-linejoin:miter;stroke-opacity:1\"/>\n",
       "<path class=\"bond-31 atom-31 atom-32\" d=\"M 203.7,83.6 L 213.0,68.9\" style=\"fill:none;fill-rule:evenodd;stroke:#000000;stroke-width:2.0px;stroke-linecap:butt;stroke-linejoin:miter;stroke-opacity:1\"/>\n",
       "<path class=\"bond-31 atom-31 atom-32\" d=\"M 208.0,83.3 L 214.6,73.0\" style=\"fill:none;fill-rule:evenodd;stroke:#000000;stroke-width:2.0px;stroke-linecap:butt;stroke-linejoin:miter;stroke-opacity:1\"/>\n",
       "<path class=\"bond-41 atom-36 atom-31\" d=\"M 211.8,99.2 L 203.7,83.6\" style=\"fill:none;fill-rule:evenodd;stroke:#000000;stroke-width:2.0px;stroke-linecap:butt;stroke-linejoin:miter;stroke-opacity:1\"/>\n",
       "<path class=\"bond-32 atom-32 atom-33\" d=\"M 213.0,68.9 L 230.5,69.6\" style=\"fill:none;fill-rule:evenodd;stroke:#000000;stroke-width:2.0px;stroke-linecap:butt;stroke-linejoin:miter;stroke-opacity:1\"/>\n",
       "<path class=\"bond-33 atom-33 atom-34\" d=\"M 230.5,69.6 L 238.6,85.1\" style=\"fill:none;fill-rule:evenodd;stroke:#000000;stroke-width:2.0px;stroke-linecap:butt;stroke-linejoin:miter;stroke-opacity:1\"/>\n",
       "<path class=\"bond-33 atom-33 atom-34\" d=\"M 228.6,73.5 L 234.3,84.4\" style=\"fill:none;fill-rule:evenodd;stroke:#000000;stroke-width:2.0px;stroke-linecap:butt;stroke-linejoin:miter;stroke-opacity:1\"/>\n",
       "<path class=\"bond-34 atom-34 atom-35\" d=\"M 238.6,85.1 L 229.3,99.9\" style=\"fill:none;fill-rule:evenodd;stroke:#000000;stroke-width:2.0px;stroke-linecap:butt;stroke-linejoin:miter;stroke-opacity:1\"/>\n",
       "<path class=\"bond-35 atom-35 atom-36\" d=\"M 229.3,99.9 L 211.8,99.2\" style=\"fill:none;fill-rule:evenodd;stroke:#000000;stroke-width:2.0px;stroke-linecap:butt;stroke-linejoin:miter;stroke-opacity:1\"/>\n",
       "<path class=\"bond-35 atom-35 atom-36\" d=\"M 226.8,96.3 L 214.6,95.8\" style=\"fill:none;fill-rule:evenodd;stroke:#000000;stroke-width:2.0px;stroke-linecap:butt;stroke-linejoin:miter;stroke-opacity:1\"/>\n",
       "<path class=\"bond-37 atom-37 atom-38\" d=\"M 183.5,112.3 L 179.7,118.2\" style=\"fill:none;fill-rule:evenodd;stroke:#000000;stroke-width:2.0px;stroke-linecap:butt;stroke-linejoin:miter;stroke-opacity:1\"/>\n",
       "<path class=\"bond-37 atom-37 atom-38\" d=\"M 179.7,118.2 L 175.9,124.1\" style=\"fill:none;fill-rule:evenodd;stroke:#FF0000;stroke-width:2.0px;stroke-linecap:butt;stroke-linejoin:miter;stroke-opacity:1\"/>\n",
       "<path class=\"bond-37 atom-37 atom-38\" d=\"M 186.4,114.1 L 182.7,120.1\" style=\"fill:none;fill-rule:evenodd;stroke:#000000;stroke-width:2.0px;stroke-linecap:butt;stroke-linejoin:miter;stroke-opacity:1\"/>\n",
       "<path class=\"bond-37 atom-37 atom-38\" d=\"M 182.7,120.1 L 178.9,126.0\" style=\"fill:none;fill-rule:evenodd;stroke:#FF0000;stroke-width:2.0px;stroke-linecap:butt;stroke-linejoin:miter;stroke-opacity:1\"/>\n",
       "<path class=\"bond-38 atom-37 atom-39\" d=\"M 184.9,113.2 L 192.3,113.5\" style=\"fill:none;fill-rule:evenodd;stroke:#000000;stroke-width:2.0px;stroke-linecap:butt;stroke-linejoin:miter;stroke-opacity:1\"/>\n",
       "<path class=\"bond-38 atom-37 atom-39\" d=\"M 192.3,113.5 L 199.7,113.8\" style=\"fill:none;fill-rule:evenodd;stroke:#FF0000;stroke-width:2.0px;stroke-linecap:butt;stroke-linejoin:miter;stroke-opacity:1\"/>\n",
       "<path class=\"atom-6\" d=\"M 46.8 120.4 L 47.5 120.4 L 47.5 122.5 L 50.0 122.5 L 50.0 120.4 L 50.7 120.4 L 50.7 125.4 L 50.0 125.4 L 50.0 123.1 L 47.5 123.1 L 47.5 125.4 L 46.8 125.4 L 46.8 120.4 \" fill=\"#0000FF\"/>\n",
       "<path class=\"atom-6\" d=\"M 52.1 120.4 L 53.7 123.0 Q 53.9 123.3, 54.1 123.8 Q 54.4 124.2, 54.4 124.3 L 54.4 120.4 L 55.1 120.4 L 55.1 125.4 L 54.4 125.4 L 52.6 122.5 Q 52.4 122.2, 52.2 121.8 Q 52.0 121.4, 51.9 121.3 L 51.9 125.4 L 51.3 125.4 L 51.3 120.4 L 52.1 120.4 \" fill=\"#0000FF\"/>\n",
       "<path class=\"atom-7\" d=\"M 43.7 109.1 Q 43.7 109.1, 44.0 109.2 Q 44.2 109.3, 44.4 109.4 Q 44.7 109.4, 45.0 109.4 Q 45.4 109.4, 45.7 109.2 Q 46.0 109.0, 46.0 108.6 Q 46.0 108.3, 45.8 108.1 Q 45.7 108.0, 45.5 107.9 Q 45.3 107.8, 44.9 107.7 Q 44.5 107.5, 44.2 107.4 Q 44.0 107.3, 43.8 107.0 Q 43.6 106.8, 43.6 106.3 Q 43.6 105.7, 44.0 105.3 Q 44.4 104.9, 45.3 104.9 Q 45.8 104.9, 46.5 105.2 L 46.3 105.7 Q 45.7 105.5, 45.3 105.5 Q 44.8 105.5, 44.5 105.7 Q 44.3 105.9, 44.3 106.2 Q 44.3 106.5, 44.4 106.7 Q 44.6 106.8, 44.8 106.9 Q 45.0 107.0, 45.3 107.1 Q 45.7 107.2, 46.0 107.4 Q 46.3 107.5, 46.5 107.8 Q 46.7 108.1, 46.7 108.6 Q 46.7 109.3, 46.2 109.6 Q 45.7 110.0, 45.0 110.0 Q 44.5 110.0, 44.2 109.9 Q 43.9 109.8, 43.5 109.6 L 43.7 109.1 \" fill=\"#CCCC00\"/>\n",
       "<path class=\"atom-8\" d=\"M 27.3 115.5 Q 27.3 114.3, 27.9 113.7 Q 28.5 113.0, 29.6 113.0 Q 30.7 113.0, 31.3 113.7 Q 31.8 114.3, 31.8 115.5 Q 31.8 116.7, 31.2 117.4 Q 30.7 118.1, 29.6 118.1 Q 28.5 118.1, 27.9 117.4 Q 27.3 116.7, 27.3 115.5 M 29.6 117.5 Q 30.3 117.5, 30.7 117.0 Q 31.1 116.5, 31.1 115.5 Q 31.1 114.5, 30.7 114.1 Q 30.3 113.6, 29.6 113.6 Q 28.8 113.6, 28.4 114.0 Q 28.0 114.5, 28.0 115.5 Q 28.0 116.5, 28.4 117.0 Q 28.8 117.5, 29.6 117.5 \" fill=\"#FF0000\"/>\n",
       "<path class=\"atom-9\" d=\"M 58.3 99.3 Q 58.3 98.1, 58.9 97.4 Q 59.5 96.8, 60.6 96.8 Q 61.7 96.8, 62.3 97.4 Q 62.8 98.1, 62.8 99.3 Q 62.8 100.5, 62.3 101.2 Q 61.7 101.9, 60.6 101.9 Q 59.5 101.9, 58.9 101.2 Q 58.3 100.5, 58.3 99.3 M 60.6 101.3 Q 61.3 101.3, 61.7 100.8 Q 62.1 100.3, 62.1 99.3 Q 62.1 98.3, 61.7 97.8 Q 61.3 97.3, 60.6 97.3 Q 59.8 97.3, 59.4 97.8 Q 59.0 98.3, 59.0 99.3 Q 59.0 100.3, 59.4 100.8 Q 59.8 101.3, 60.6 101.3 \" fill=\"#FF0000\"/>\n",
       "<path class=\"atom-19\" d=\"M 69.6 93.4 Q 69.6 92.2, 70.2 91.5 Q 70.8 90.8, 71.9 90.8 Q 73.0 90.8, 73.6 91.5 Q 74.2 92.2, 74.2 93.4 Q 74.2 94.6, 73.6 95.2 Q 73.0 95.9, 71.9 95.9 Q 70.8 95.9, 70.2 95.2 Q 69.6 94.6, 69.6 93.4 M 71.9 95.4 Q 72.7 95.4, 73.1 94.9 Q 73.5 94.3, 73.5 93.4 Q 73.5 92.4, 73.1 91.9 Q 72.7 91.4, 71.9 91.4 Q 71.2 91.4, 70.8 91.9 Q 70.3 92.4, 70.3 93.4 Q 70.3 94.4, 70.8 94.9 Q 71.2 95.4, 71.9 95.4 \" fill=\"#FF0000\"/>\n",
       "<path class=\"atom-20\" d=\"M 96.4 107.1 L 98.0 109.7 Q 98.2 110.0, 98.5 110.4 Q 98.7 110.9, 98.7 110.9 L 98.7 107.1 L 99.4 107.1 L 99.4 112.0 L 98.7 112.0 L 97.0 109.2 Q 96.8 108.8, 96.6 108.5 Q 96.3 108.1, 96.3 108.0 L 96.3 112.0 L 95.6 112.0 L 95.6 107.1 L 96.4 107.1 \" fill=\"#0000FF\"/>\n",
       "<path class=\"atom-27\" d=\"M 155.8 127.3 Q 155.8 126.1, 156.4 125.4 Q 157.0 124.7, 158.1 124.7 Q 159.2 124.7, 159.8 125.4 Q 160.4 126.1, 160.4 127.3 Q 160.4 128.5, 159.8 129.2 Q 159.2 129.8, 158.1 129.8 Q 157.0 129.8, 156.4 129.2 Q 155.8 128.5, 155.8 127.3 M 158.1 129.3 Q 158.8 129.3, 159.2 128.8 Q 159.7 128.3, 159.7 127.3 Q 159.7 126.3, 159.2 125.8 Q 158.8 125.3, 158.1 125.3 Q 157.3 125.3, 156.9 125.8 Q 156.5 126.3, 156.5 127.3 Q 156.5 128.3, 156.9 128.8 Q 157.3 129.3, 158.1 129.3 \" fill=\"#FF0000\"/>\n",
       "<path class=\"atom-28\" d=\"M 153.0 94.5 L 153.7 94.5 L 153.7 96.6 L 156.2 96.6 L 156.2 94.5 L 156.9 94.5 L 156.9 99.5 L 156.2 99.5 L 156.2 97.2 L 153.7 97.2 L 153.7 99.5 L 153.0 99.5 L 153.0 94.5 \" fill=\"#0000FF\"/>\n",
       "<path class=\"atom-28\" d=\"M 158.2 94.5 L 159.9 97.1 Q 160.0 97.4, 160.3 97.8 Q 160.5 98.3, 160.6 98.3 L 160.6 94.5 L 161.2 94.5 L 161.2 99.5 L 160.5 99.5 L 158.8 96.6 Q 158.6 96.2, 158.4 95.9 Q 158.2 95.5, 158.1 95.4 L 158.1 99.5 L 157.5 99.5 L 157.5 94.5 L 158.2 94.5 \" fill=\"#0000FF\"/>\n",
       "<path class=\"atom-38\" d=\"M 173.3 128.0 Q 173.3 126.8, 173.9 126.1 Q 174.5 125.5, 175.6 125.5 Q 176.7 125.5, 177.2 126.1 Q 177.8 126.8, 177.8 128.0 Q 177.8 129.2, 177.2 129.9 Q 176.6 130.6, 175.6 130.6 Q 174.5 130.6, 173.9 129.9 Q 173.3 129.2, 173.3 128.0 M 175.6 130.0 Q 176.3 130.0, 176.7 129.5 Q 177.1 129.0, 177.1 128.0 Q 177.1 127.0, 176.7 126.5 Q 176.3 126.0, 175.6 126.0 Q 174.8 126.0, 174.4 126.5 Q 174.0 127.0, 174.0 128.0 Q 174.0 129.0, 174.4 129.5 Q 174.8 130.0, 175.6 130.0 \" fill=\"#FF0000\"/>\n",
       "<path class=\"atom-39\" d=\"M 200.1 113.9 Q 200.1 112.8, 200.7 112.1 Q 201.3 111.4, 202.4 111.4 Q 203.5 111.4, 204.1 112.1 Q 204.7 112.8, 204.7 113.9 Q 204.7 115.1, 204.1 115.8 Q 203.5 116.5, 202.4 116.5 Q 201.3 116.5, 200.7 115.8 Q 200.1 115.2, 200.1 113.9 M 202.4 116.0 Q 203.2 116.0, 203.6 115.4 Q 204.0 114.9, 204.0 113.9 Q 204.0 113.0, 203.6 112.5 Q 203.2 112.0, 202.4 112.0 Q 201.7 112.0, 201.2 112.5 Q 200.8 113.0, 200.8 113.9 Q 200.8 114.9, 201.2 115.4 Q 201.7 116.0, 202.4 116.0 \" fill=\"#FF0000\"/>\n",
       "<path class=\"atom-39\" d=\"M 205.3 111.5 L 206.0 111.5 L 206.0 113.6 L 208.5 113.6 L 208.5 111.5 L 209.2 111.5 L 209.2 116.4 L 208.5 116.4 L 208.5 114.1 L 206.0 114.1 L 206.0 116.4 L 205.3 116.4 L 205.3 111.5 \" fill=\"#FF0000\"/>\n",
       "</svg>"
      ],
      "text/plain": [
       "<IPython.core.display.SVG object>"
      ]
     },
     "execution_count": 38,
     "metadata": {},
     "output_type": "execute_result"
    }
   ],
   "source": [
    "from IPython.display import SVG\n",
    "\n",
    "SVG(d2d.GetDrawingText())"
   ]
  },
  {
   "cell_type": "markdown",
   "metadata": {},
   "source": [
    "## Visualize the results"
   ]
  },
  {
   "cell_type": "code",
   "execution_count": 40,
   "metadata": {},
   "outputs": [
    {
     "data": {
      "image/png": "[encoded data removed]",
      "text/plain": [
       "<Figure size 900x900 with 2 Axes>"
      ]
     },
     "metadata": {
      "needs_background": "light"
     },
     "output_type": "display_data"
    }
   ],
   "source": [
    "scores_array = scores.scores.to_array()\n",
    "\n",
    "plt.figure(figsize=(6,6), dpi=150)\n",
    "plt.imshow(scores_array[:50, :50], cmap=\"viridis\")\n",
    "plt.colorbar(shrink=0.7)\n",
    "plt.title(\"Spec2Vec spectra similarities\")\n",
    "plt.xlabel(\"Spectrum #ID\")\n",
    "plt.ylabel(\"Spectrum #ID\")\n",
    "plt.clim(0, 1)  # Spec2Vec scores can be between -1 and 1\n",
    "#plt.savefig(\"spec2vec_scores.png\")"
   ]
  },
  {
   "cell_type": "code",
   "execution_count": null,
   "metadata": {},
   "outputs": [],
   "source": []
  }
 ],
 "metadata": {
  "kernelspec": {
   "display_name": "Python 3 (ipykernel)",
   "language": "python",
   "name": "python3"
  },
  "language_info": {
   "codemirror_mode": {
    "name": "ipython",
    "version": 3
   },
   "file_extension": ".py",
   "mimetype": "text/x-python",
   "name": "python",
   "nbconvert_exporter": "python",
   "pygments_lexer": "ipython3",
   "version": "3.8.12"
  }
 },
 "nbformat": 4,
 "nbformat_minor": 4
}
